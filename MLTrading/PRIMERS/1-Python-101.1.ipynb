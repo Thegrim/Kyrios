{
 "cells": [
  {
   "cell_type": "code",
   "execution_count": 3,
   "id": "df6c6d0f",
   "metadata": {},
   "outputs": [
    {
     "name": "stdout",
     "output_type": "stream",
     "text": [
      "Hello Apple\n"
     ]
    }
   ],
   "source": [
    "tech_stocks = ['AAPL', 'GOOG', 'TSLA', 'MSFT']\n",
    "\n",
    "if 'AAPL' in tech_stocks: \n",
    "    print(\"Hello Apple\")"
   ]
  },
  {
   "cell_type": "code",
   "execution_count": null,
   "id": "f426f9fb",
   "metadata": {},
   "outputs": [],
   "source": []
  }
 ],
 "metadata": {
  "kernelspec": {
   "display_name": "Python 3 (ipykernel)",
   "language": "python",
   "name": "python3"
  },
  "language_info": {
   "codemirror_mode": {
    "name": "ipython",
    "version": 3
   },
   "file_extension": ".py",
   "mimetype": "text/x-python",
   "name": "python",
   "nbconvert_exporter": "python",
   "pygments_lexer": "ipython3",
   "version": "3.9.6"
  }
 },
 "nbformat": 4,
 "nbformat_minor": 5
}
